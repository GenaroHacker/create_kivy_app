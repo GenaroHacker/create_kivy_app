{
  "nbformat": 4,
  "nbformat_minor": 0,
  "metadata": {
    "colab": {
      "provenance": [],
      "authorship_tag": "ABX9TyOUA0uFupH+EY5+V2DK0Wgu",
      "include_colab_link": true
    },
    "kernelspec": {
      "name": "python3",
      "display_name": "Python 3"
    },
    "language_info": {
      "name": "python"
    }
  },
  "cells": [
    {
      "cell_type": "markdown",
      "metadata": {
        "id": "view-in-github",
        "colab_type": "text"
      },
      "source": [
        "<a href=\"https://colab.research.google.com/github/GenaroHacker/dict_to_kivy_app/blob/main/main.ipynb\" target=\"_parent\"><img src=\"https://colab.research.google.com/assets/colab-badge.svg\" alt=\"Open In Colab\"/></a>"
      ]
    },
    {
      "cell_type": "code",
      "execution_count": null,
      "metadata": {
        "id": "9xyuiQ5G-8wi",
        "cellView": "form"
      },
      "outputs": [],
      "source": [
        "# @title Setup\n",
        "%%capture\n",
        "!git clone https://github.com/GenaroHacker/dict_to_kivy_app.git\n",
        "from dict_to_kivy_app.modules.write_imports import write_imports\n"
      ]
    },
    {
      "cell_type": "code",
      "source": [
        "# @title Import\n",
        "from dict_to_kivy_app.modules.create_screen import create_screen\n",
        "from dict_to_kivy_app.modules.create_utils import create_utils\n",
        "from dict_to_kivy_app.modules.create_app import create_app\n",
        "from dict_to_kivy_app.modules.create_kv import create_kv\n",
        "from dict_to_kivy_app.modules.create_screen_and_kv import create_screen_and_kv\n",
        "from dict_to_kivy_app.modules.write_imports import write_imports\n",
        "from dict_to_kivy_app.modules.create_main import create_main\n"
      ],
      "metadata": {
        "id": "KkNJ_ASY_Kx2",
        "cellView": "form"
      },
      "execution_count": null,
      "outputs": []
    },
    {
      "cell_type": "code",
      "source": [
        "# @title Create App\n",
        "# Example of a sample_dict for an app\n",
        "app_structure = {\n",
        "    'home': {\n",
        "        'reachable_screens': ['settings', 'profile', 'cart'],\n",
        "        'custom_functions': ['Browse Products', 'Search', 'View Promotions', 'Recommendations'],\n",
        "        'grid_columns': 2,\n",
        "        'color': (0.9, 0.5, 0),\n",
        "    },\n",
        "    'settings': {\n",
        "        'reachable_screens': ['home', 'profile', 'cart'],\n",
        "        'custom_functions': ['Payment Methods', 'Shipping Address', 'Notification Preferences', 'Account Settings'],\n",
        "        'grid_columns': 1,\n",
        "        'color': (0, 0.9, 0.5),\n",
        "    },\n",
        "    'profile': {\n",
        "        'reachable_screens': ['home', 'settings', 'cart'],\n",
        "        'custom_functions': ['Order History', 'Wishlist', 'Edit Profile', 'Sign Out'],\n",
        "        'grid_columns': 2,\n",
        "        'color': (0.5, 0, 0.9),\n",
        "    },\n",
        "    'cart': {\n",
        "        'reachable_screens': ['home', 'settings', 'profile'],\n",
        "        'custom_functions': ['View Cart', 'Checkout', 'Apply Coupon', 'Estimate Shipping'],\n",
        "        'grid_columns': 4,\n",
        "        'color': (0.9, 0.9, 0),\n",
        "    }\n",
        "}\n",
        "\n",
        "\n",
        "\n",
        "\n",
        "# Generate a single app\n",
        "create_app(\n",
        "    screen_dict=app_structure,\n",
        "    folder_name=\"example_apps\",\n",
        "    app_name=\"SampleApp\",\n",
        "    title_height=100,\n",
        "    button_height=50,\n",
        "    navigation_columns=3,\n",
        "    transition='SwapTransition',\n",
        "    compress_and_download=True\n",
        ")\n"
      ],
      "metadata": {
        "colab": {
          "base_uri": "https://localhost:8080/",
          "height": 35
        },
        "id": "dbFRX2X4_YLs",
        "outputId": "3a83bc34-398a-47ea-a98a-d981cb35a3c9",
        "cellView": "form"
      },
      "execution_count": null,
      "outputs": [
        {
          "output_type": "display_data",
          "data": {
            "text/plain": [
              "<IPython.core.display.Javascript object>"
            ],
            "application/javascript": [
              "\n",
              "    async function download(id, filename, size) {\n",
              "      if (!google.colab.kernel.accessAllowed) {\n",
              "        return;\n",
              "      }\n",
              "      const div = document.createElement('div');\n",
              "      const label = document.createElement('label');\n",
              "      label.textContent = `Downloading \"${filename}\": `;\n",
              "      div.appendChild(label);\n",
              "      const progress = document.createElement('progress');\n",
              "      progress.max = size;\n",
              "      div.appendChild(progress);\n",
              "      document.body.appendChild(div);\n",
              "\n",
              "      const buffers = [];\n",
              "      let downloaded = 0;\n",
              "\n",
              "      const channel = await google.colab.kernel.comms.open(id);\n",
              "      // Send a message to notify the kernel that we're ready.\n",
              "      channel.send({})\n",
              "\n",
              "      for await (const message of channel.messages) {\n",
              "        // Send a message to notify the kernel that we're ready.\n",
              "        channel.send({})\n",
              "        if (message.buffers) {\n",
              "          for (const buffer of message.buffers) {\n",
              "            buffers.push(buffer);\n",
              "            downloaded += buffer.byteLength;\n",
              "            progress.value = downloaded;\n",
              "          }\n",
              "        }\n",
              "      }\n",
              "      const blob = new Blob(buffers, {type: 'application/binary'});\n",
              "      const a = document.createElement('a');\n",
              "      a.href = window.URL.createObjectURL(blob);\n",
              "      a.download = filename;\n",
              "      div.appendChild(a);\n",
              "      a.click();\n",
              "      div.remove();\n",
              "    }\n",
              "  "
            ]
          },
          "metadata": {}
        },
        {
          "output_type": "display_data",
          "data": {
            "text/plain": [
              "<IPython.core.display.Javascript object>"
            ],
            "application/javascript": [
              "download(\"download_5e3007ca-2e08-47de-8c7e-5c4fb60ee997\", \"example_apps.zip\", 9271)"
            ]
          },
          "metadata": {}
        },
        {
          "output_type": "execute_result",
          "data": {
            "text/plain": [
              "'example_apps/SampleApp'"
            ],
            "application/vnd.google.colaboratory.intrinsic+json": {
              "type": "string"
            }
          },
          "metadata": {},
          "execution_count": 3
        }
      ]
    }
  ]
}