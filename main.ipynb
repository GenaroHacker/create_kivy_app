{
  "nbformat": 4,
  "nbformat_minor": 0,
  "metadata": {
    "colab": {
      "provenance": [],
      "authorship_tag": "ABX9TyOSkOBHt+9Dnw8vhqw/GTGh",
      "include_colab_link": true
    },
    "kernelspec": {
      "name": "python3",
      "display_name": "Python 3"
    },
    "language_info": {
      "name": "python"
    }
  },
  "cells": [
    {
      "cell_type": "markdown",
      "metadata": {
        "id": "view-in-github",
        "colab_type": "text"
      },
      "source": [
        "<a href=\"https://colab.research.google.com/github/GenaroHacker/dict_to_kivy_app/blob/main/main.ipynb\" target=\"_parent\"><img src=\"https://colab.research.google.com/assets/colab-badge.svg\" alt=\"Open In Colab\"/></a>"
      ]
    },
    {
      "cell_type": "code",
      "execution_count": 1,
      "metadata": {
        "colab": {
          "base_uri": "https://localhost:8080/"
        },
        "id": "9xyuiQ5G-8wi",
        "outputId": "f7ca1842-d015-4bec-d7dc-142af2111e52",
        "cellView": "form"
      },
      "outputs": [
        {
          "output_type": "stream",
          "name": "stdout",
          "text": [
            "Cloning into 'dict_to_kivy_app'...\n",
            "remote: Enumerating objects: 201, done.\u001b[K\n",
            "remote: Counting objects: 100% (77/77), done.\u001b[K\n",
            "remote: Compressing objects: 100% (66/66), done.\u001b[K\n",
            "remote: Total 201 (delta 38), reused 11 (delta 11), pack-reused 124\u001b[K\n",
            "Receiving objects: 100% (201/201), 51.50 KiB | 17.17 MiB/s, done.\n",
            "Resolving deltas: 100% (87/87), done.\n"
          ]
        }
      ],
      "source": [
        "# @title Setup\n",
        "!git clone https://github.com/GenaroHacker/dict_to_kivy_app.git\n",
        "from dict_to_kivy_app.modules.write_imports import write_imports\n"
      ]
    },
    {
      "cell_type": "code",
      "source": [
        "\n",
        "\n",
        "\n",
        "# Delete this line to see the new imports\n",
        "%%capture\n",
        "\n",
        "\n",
        "\n",
        "#@title Import Statements\n",
        "#Modules: ['dict_to_kivy_app']\n",
        "\n",
        "\n",
        "\n",
        "from dict_to_kivy_app.modules.create_screen import create_screen\n",
        "\n",
        "from dict_to_kivy_app.modules.create_app import create_app\n",
        "\n",
        "from dict_to_kivy_app.modules.create_kv import create_kv\n",
        "\n",
        "from dict_to_kivy_app.modules.create_screen_and_kv import create_screen_and_kv\n",
        "\n",
        "from dict_to_kivy_app.modules.write_imports import write_imports\n",
        "\n",
        "from dict_to_kivy_app.modules.create_main import create_main\n",
        "\n",
        "\n",
        "\n",
        "\n",
        "\n",
        "print(write_imports([]))\n",
        "\n",
        "\n",
        "\n",
        "\n"
      ],
      "metadata": {
        "id": "KkNJ_ASY_Kx2",
        "cellView": "form"
      },
      "execution_count": 2,
      "outputs": []
    },
    {
      "cell_type": "code",
      "source": [
        "# @title Create App\n",
        "# Example of a sample_dict for a single app\n",
        "app_structure = {\n",
        "    'home': {\n",
        "        'reachable_screens': ['settings', 'profile', 'help'],\n",
        "        'grid_columns': 2,\n",
        "        'button_height': 30,\n",
        "        'color': (0.5, 0.5, 0.5),\n",
        "    },\n",
        "    'settings': {\n",
        "        'reachable_screens': ['home', 'profile', 'about'],\n",
        "        'grid_columns': 1,\n",
        "        'button_height': 200,\n",
        "        'color': (0.2, 0.2, 0.2),\n",
        "    },\n",
        "    'profile': {\n",
        "        'reachable_screens': ['home', 'settings', 'about'],\n",
        "        'grid_columns': 3,\n",
        "        'button_height': 40,\n",
        "        'color': (0.4, 0.7, 0.1),\n",
        "    },\n",
        "    'about': {\n",
        "        'reachable_screens': ['settings', 'profile', 'help'],\n",
        "        'grid_columns': 1,\n",
        "        'button_height': 50,\n",
        "        'color': (0.9, 0.6, 0.2),\n",
        "    },\n",
        "    'help': {\n",
        "        'reachable_screens': ['home', 'about'],\n",
        "        'grid_columns': 2,\n",
        "        'button_height': 60,\n",
        "        'color': (0.1, 0.3, 0.5),\n",
        "    }\n",
        "}\n",
        "\n",
        "\n",
        "\n",
        "# Generate a single app\n",
        "#create_app(screen_dict=app_structure, folder_name=\"example_apps\", app_name=\"SampleApp\", compress_and_download=True)\n",
        "\n",
        "# Generate a single app with a specific transition and title_height\n",
        "create_app(\n",
        "    screen_dict=app_structure,\n",
        "    folder_name=\"example_apps\",\n",
        "    app_name=\"SampleApp\",\n",
        "    title_height=100,\n",
        "    transition='FadeTransition',\n",
        "    compress_and_download=True\n",
        ")\n"
      ],
      "metadata": {
        "colab": {
          "base_uri": "https://localhost:8080/",
          "height": 35
        },
        "id": "dbFRX2X4_YLs",
        "outputId": "9ea01ea7-9fbe-499c-8424-9304a58de491",
        "cellView": "form"
      },
      "execution_count": 4,
      "outputs": [
        {
          "output_type": "display_data",
          "data": {
            "text/plain": [
              "<IPython.core.display.Javascript object>"
            ],
            "application/javascript": [
              "\n",
              "    async function download(id, filename, size) {\n",
              "      if (!google.colab.kernel.accessAllowed) {\n",
              "        return;\n",
              "      }\n",
              "      const div = document.createElement('div');\n",
              "      const label = document.createElement('label');\n",
              "      label.textContent = `Downloading \"${filename}\": `;\n",
              "      div.appendChild(label);\n",
              "      const progress = document.createElement('progress');\n",
              "      progress.max = size;\n",
              "      div.appendChild(progress);\n",
              "      document.body.appendChild(div);\n",
              "\n",
              "      const buffers = [];\n",
              "      let downloaded = 0;\n",
              "\n",
              "      const channel = await google.colab.kernel.comms.open(id);\n",
              "      // Send a message to notify the kernel that we're ready.\n",
              "      channel.send({})\n",
              "\n",
              "      for await (const message of channel.messages) {\n",
              "        // Send a message to notify the kernel that we're ready.\n",
              "        channel.send({})\n",
              "        if (message.buffers) {\n",
              "          for (const buffer of message.buffers) {\n",
              "            buffers.push(buffer);\n",
              "            downloaded += buffer.byteLength;\n",
              "            progress.value = downloaded;\n",
              "          }\n",
              "        }\n",
              "      }\n",
              "      const blob = new Blob(buffers, {type: 'application/binary'});\n",
              "      const a = document.createElement('a');\n",
              "      a.href = window.URL.createObjectURL(blob);\n",
              "      a.download = filename;\n",
              "      div.appendChild(a);\n",
              "      a.click();\n",
              "      div.remove();\n",
              "    }\n",
              "  "
            ]
          },
          "metadata": {}
        },
        {
          "output_type": "display_data",
          "data": {
            "text/plain": [
              "<IPython.core.display.Javascript object>"
            ],
            "application/javascript": [
              "download(\"download_39ea580b-286e-4bac-92fe-63085370c1e4\", \"example_apps.zip\", 10322)"
            ]
          },
          "metadata": {}
        },
        {
          "output_type": "execute_result",
          "data": {
            "text/plain": [
              "'example_apps/SampleApp'"
            ],
            "application/vnd.google.colaboratory.intrinsic+json": {
              "type": "string"
            }
          },
          "metadata": {},
          "execution_count": 4
        }
      ]
    }
  ]
}