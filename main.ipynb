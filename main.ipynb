{
  "nbformat": 4,
  "nbformat_minor": 0,
  "metadata": {
    "colab": {
      "provenance": [],
      "authorship_tag": "ABX9TyN6lb38RgSGaHwuoR5bwFHF",
      "include_colab_link": true
    },
    "kernelspec": {
      "name": "python3",
      "display_name": "Python 3"
    },
    "language_info": {
      "name": "python"
    }
  },
  "cells": [
    {
      "cell_type": "markdown",
      "metadata": {
        "id": "view-in-github",
        "colab_type": "text"
      },
      "source": [
        "<a href=\"https://colab.research.google.com/github/GenaroHacker/create_kivy_app/blob/main/main.ipynb\" target=\"_parent\"><img src=\"https://colab.research.google.com/assets/colab-badge.svg\" alt=\"Open In Colab\"/></a>"
      ]
    },
    {
      "cell_type": "code",
      "execution_count": 1,
      "metadata": {
        "colab": {
          "base_uri": "https://localhost:8080/"
        },
        "id": "9xyuiQ5G-8wi",
        "outputId": "71862f87-4d10-4f4b-8376-3411633814ce"
      },
      "outputs": [
        {
          "output_type": "stream",
          "name": "stdout",
          "text": [
            "Cloning into 'create_kivy_app'...\n",
            "remote: Enumerating objects: 3, done.\u001b[K\n",
            "remote: Counting objects: 100% (3/3), done.\u001b[K\n",
            "remote: Compressing objects: 100% (2/2), done.\u001b[K\n",
            "remote: Total 3 (delta 0), reused 0 (delta 0), pack-reused 0\u001b[K\n",
            "Receiving objects: 100% (3/3), 4.51 KiB | 4.51 MiB/s, done.\n"
          ]
        }
      ],
      "source": [
        "!git clone https://github.com/GenaroHacker/create_kivy_app.git"
      ]
    },
    {
      "cell_type": "code",
      "source": [
        "from create_kivy_app.create_kivy_app import generate_screen_class_and_save_file\n",
        "from create_kivy_app.create_kivy_app import generate_kv_content_and_save_file\n",
        "from create_kivy_app.create_kivy_app import generate_screen_and_kv_files\n",
        "from create_kivy_app.create_kivy_app import generate_main_py_file\n",
        "from create_kivy_app.create_kivy_app import generate_complete_app\n",
        "from create_kivy_app.create_kivy_app import generate_multiple_apps\n",
        "\n",
        "\n"
      ],
      "metadata": {
        "colab": {
          "base_uri": "https://localhost:8080/",
          "height": 52
        },
        "id": "KkNJ_ASY_Kx2",
        "outputId": "41a810b3-8939-47ad-b19a-b1b3a0fb1b79"
      },
      "execution_count": 4,
      "outputs": [
        {
          "output_type": "stream",
          "name": "stdout",
          "text": [
            "Generating app: app1\n",
            "Generating app: app2\n"
          ]
        },
        {
          "output_type": "display_data",
          "data": {
            "text/plain": [
              "<IPython.core.display.Javascript object>"
            ],
            "application/javascript": [
              "\n",
              "    async function download(id, filename, size) {\n",
              "      if (!google.colab.kernel.accessAllowed) {\n",
              "        return;\n",
              "      }\n",
              "      const div = document.createElement('div');\n",
              "      const label = document.createElement('label');\n",
              "      label.textContent = `Downloading \"${filename}\": `;\n",
              "      div.appendChild(label);\n",
              "      const progress = document.createElement('progress');\n",
              "      progress.max = size;\n",
              "      div.appendChild(progress);\n",
              "      document.body.appendChild(div);\n",
              "\n",
              "      const buffers = [];\n",
              "      let downloaded = 0;\n",
              "\n",
              "      const channel = await google.colab.kernel.comms.open(id);\n",
              "      // Send a message to notify the kernel that we're ready.\n",
              "      channel.send({})\n",
              "\n",
              "      for await (const message of channel.messages) {\n",
              "        // Send a message to notify the kernel that we're ready.\n",
              "        channel.send({})\n",
              "        if (message.buffers) {\n",
              "          for (const buffer of message.buffers) {\n",
              "            buffers.push(buffer);\n",
              "            downloaded += buffer.byteLength;\n",
              "            progress.value = downloaded;\n",
              "          }\n",
              "        }\n",
              "      }\n",
              "      const blob = new Blob(buffers, {type: 'application/binary'});\n",
              "      const a = document.createElement('a');\n",
              "      a.href = window.URL.createObjectURL(blob);\n",
              "      a.download = filename;\n",
              "      div.appendChild(a);\n",
              "      a.click();\n",
              "      div.remove();\n",
              "    }\n",
              "  "
            ]
          },
          "metadata": {}
        },
        {
          "output_type": "display_data",
          "data": {
            "text/plain": [
              "<IPython.core.display.Javascript object>"
            ],
            "application/javascript": [
              "download(\"download_6ca94208-0f71-413f-b1cb-b5b119795df3\", \"example_apps.zip\", 4433)"
            ]
          },
          "metadata": {}
        }
      ]
    },
    {
      "cell_type": "code",
      "source": [
        "# Example of a sample_dict with different characteristics\n",
        "sample_dicts = {\n",
        "    'SampleApp1': {\n",
        "        'home': {\n",
        "            'reachable_screens': ['settings'],\n",
        "            'grid_color': (0.5, 0.5, 0.5),\n",
        "            'scroll_color': (0.6, 0.6, 0.6),\n",
        "            'grid_columns': 2,\n",
        "            'button_height': 40,\n",
        "        },\n",
        "        'settings': {\n",
        "            'reachable_screens': ['home'],\n",
        "            'grid_color': (0.2, 0.2, 0.2),\n",
        "            'scroll_color': (0.8, 0.8, 0.8),\n",
        "            'grid_columns': 1,\n",
        "            'button_height': 50,\n",
        "        }\n",
        "    },\n",
        "    'SampleApp2': {\n",
        "        'main': {\n",
        "            'reachable_screens': ['secondary'],\n",
        "            'grid_color': (1, 0, 0),\n",
        "            'scroll_color': (0, 1, 0),\n",
        "            'grid_columns': 3,\n",
        "            'button_height': 35,\n",
        "        },\n",
        "        'secondary': {\n",
        "            'reachable_screens': ['main'],\n",
        "            'grid_color': (0, 0, 1),\n",
        "            'scroll_color': (1, 1, 0),\n",
        "            'grid_columns': 2,\n",
        "            'button_height': 45,\n",
        "        }\n",
        "    }\n",
        "}\n",
        "\n",
        "# Convert the example_sample_dicts to a list of dictionaries for testing\n",
        "example_app_dicts = list(sample_dicts.values())\n",
        "\n",
        "# Test the function with the example app dictionaries\n",
        "generate_multiple_apps(example_app_dicts, apps_folder_name=\"example_apps\")\n"
      ],
      "metadata": {
        "colab": {
          "base_uri": "https://localhost:8080/",
          "height": 70
        },
        "id": "dbFRX2X4_YLs",
        "outputId": "31db1008-16a7-4b86-e329-85ed9ca75cf3"
      },
      "execution_count": 5,
      "outputs": [
        {
          "output_type": "stream",
          "name": "stdout",
          "text": [
            "Generating app: app1\n",
            "Generating app: app2\n"
          ]
        },
        {
          "output_type": "display_data",
          "data": {
            "text/plain": [
              "<IPython.core.display.Javascript object>"
            ],
            "application/javascript": [
              "\n",
              "    async function download(id, filename, size) {\n",
              "      if (!google.colab.kernel.accessAllowed) {\n",
              "        return;\n",
              "      }\n",
              "      const div = document.createElement('div');\n",
              "      const label = document.createElement('label');\n",
              "      label.textContent = `Downloading \"${filename}\": `;\n",
              "      div.appendChild(label);\n",
              "      const progress = document.createElement('progress');\n",
              "      progress.max = size;\n",
              "      div.appendChild(progress);\n",
              "      document.body.appendChild(div);\n",
              "\n",
              "      const buffers = [];\n",
              "      let downloaded = 0;\n",
              "\n",
              "      const channel = await google.colab.kernel.comms.open(id);\n",
              "      // Send a message to notify the kernel that we're ready.\n",
              "      channel.send({})\n",
              "\n",
              "      for await (const message of channel.messages) {\n",
              "        // Send a message to notify the kernel that we're ready.\n",
              "        channel.send({})\n",
              "        if (message.buffers) {\n",
              "          for (const buffer of message.buffers) {\n",
              "            buffers.push(buffer);\n",
              "            downloaded += buffer.byteLength;\n",
              "            progress.value = downloaded;\n",
              "          }\n",
              "        }\n",
              "      }\n",
              "      const blob = new Blob(buffers, {type: 'application/binary'});\n",
              "      const a = document.createElement('a');\n",
              "      a.href = window.URL.createObjectURL(blob);\n",
              "      a.download = filename;\n",
              "      div.appendChild(a);\n",
              "      a.click();\n",
              "      div.remove();\n",
              "    }\n",
              "  "
            ]
          },
          "metadata": {}
        },
        {
          "output_type": "display_data",
          "data": {
            "text/plain": [
              "<IPython.core.display.Javascript object>"
            ],
            "application/javascript": [
              "download(\"download_2c480ac6-dd56-4bec-ae69-bc5e112e5134\", \"example_apps.zip\", 4433)"
            ]
          },
          "metadata": {}
        },
        {
          "output_type": "execute_result",
          "data": {
            "text/plain": [
              "'example_apps/'"
            ],
            "application/vnd.google.colaboratory.intrinsic+json": {
              "type": "string"
            }
          },
          "metadata": {},
          "execution_count": 5
        }
      ]
    }
  ]
}